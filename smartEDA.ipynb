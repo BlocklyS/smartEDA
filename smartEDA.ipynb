{
  "metadata": {
    "kernelspec": {
      "name": "ir",
      "display_name": "R",
      "language": "R"
    },
    "language_info": {
      "name": "R",
      "codemirror_mode": "r",
      "pygments_lexer": "r",
      "mimetype": "text/x-r-source",
      "file_extension": ".r",
      "version": "4.0.5"
    },
    "colab": {
      "provenance": [],
      "include_colab_link": true
    }
  },
  "nbformat_minor": 0,
  "nbformat": 4,
  "cells": [
    {
      "cell_type": "markdown",
      "metadata": {
        "id": "view-in-github",
        "colab_type": "text"
      },
      "source": [
        "<a href=\"https://colab.research.google.com/github/BlocklyS/smartEDA/blob/main/smartEDA.ipynb\" target=\"_parent\"><img src=\"https://colab.research.google.com/assets/colab-badge.svg\" alt=\"Open In Colab\"/></a>"
      ]
    },
    {
      "cell_type": "code",
      "source": [
        "# this line of code prints the version of R being used (in colab change runtime to R kernel)\n",
        "print(R.version.string)"
      ],
      "metadata": {
        "id": "Wpv7WrhO8DoY"
      },
      "execution_count": null,
      "outputs": []
    },
    {
      "cell_type": "code",
      "source": [
        "# recall tidyverse ()\n",
        "library(tidyverse)"
      ],
      "metadata": {
        "id": "MH3Fx5XdO-P1"
      },
      "execution_count": null,
      "outputs": []
    },
    {
      "cell_type": "code",
      "source": [
        "# install SmartEDA\n",
        "install.packages (\"SmartEDA\")\n",
        "library(SmartEDA)"
      ],
      "metadata": {
        "id": "LEQgHzb0jPOR"
      },
      "execution_count": null,
      "outputs": []
    },
    {
      "cell_type": "code",
      "source": [
        "# Read file on a given URL\n",
        "# Use read.csv function to parse the data and store in a variable named 'world_data'\n",
        "world_data <- read.csv(\"https://raw.githubusercontent.com/BlocklyS/smartEDA/main/world-data-2023.csv\") # GitHub Gist table\n"
      ],
      "metadata": {
        "execution": {
          "iopub.status.busy": "2023-08-01T14:40:38.423286Z",
          "iopub.execute_input": "2023-08-01T14:40:38.424794Z",
          "iopub.status.idle": "2023-08-01T14:40:38.465209Z"
        },
        "trusted": true,
        "id": "3-_lnofI78bj"
      },
      "execution_count": 4,
      "outputs": []
    },
    {
      "cell_type": "code",
      "source": [
        "class(world_data) #check the class of the R object"
      ],
      "metadata": {
        "id": "K6_Q_t2Zj-pg"
      },
      "execution_count": null,
      "outputs": []
    },
    {
      "cell_type": "code",
      "source": [
        "# Display the first few rows of a data frame (snapshot)\n",
        "head(world_data,5)\n",
        "# Display the last few rows of a data frame\n",
        "tail(world_data,5)"
      ],
      "metadata": {
        "execution": {
          "iopub.status.busy": "2023-08-01T14:40:38.534069Z",
          "iopub.execute_input": "2023-08-01T14:40:38.535485Z",
          "iopub.status.idle": "2023-08-01T14:40:38.582265Z"
        },
        "trusted": true,
        "id": "dPd4tSJX78bk"
      },
      "execution_count": null,
      "outputs": []
    },
    {
      "cell_type": "code",
      "source": [
        "# give a concise representation of the R object 'dataframe' (names of the columns, the type of data in each column..)\n",
        "glimpse(world_data)"
      ],
      "metadata": {
        "execution": {
          "iopub.status.busy": "2023-08-01T14:40:38.591154Z",
          "iopub.execute_input": "2023-08-01T14:40:38.592623Z",
          "iopub.status.idle": "2023-08-01T14:40:38.649493Z"
        },
        "trusted": true,
        "id": "tzdPDlRu78bk"
      },
      "execution_count": null,
      "outputs": []
    },
    {
      "cell_type": "markdown",
      "source": [
        "** Transform the excess of character columns and clear format symbols**"
      ],
      "metadata": {
        "id": "pWroXyY-_Z8f"
      }
    },
    {
      "cell_type": "code",
      "source": [
        "# Identifying character columns\n",
        "char_cols <- sapply(world_data, is.character)"
      ],
      "metadata": {
        "id": "3jt6Bsbs_Y2F"
      },
      "execution_count": 8,
      "outputs": []
    },
    {
      "cell_type": "code",
      "source": [
        "# Exclude certain columns from transformation\n",
        "exclude_cols <- c(\"Country\", \"Abbreviation\", \"Capital.Major.City\", \"Currency.Code\", \"Largest.city\", \"Official.language\")\n",
        "char_cols[exclude_cols] <- FALSE"
      ],
      "metadata": {
        "id": "wcRGWUzHDTMp"
      },
      "execution_count": 9,
      "outputs": []
    },
    {
      "cell_type": "code",
      "source": [
        "# Convert remaining character columns to numeric, removing any special characters, assing to new variable clean_data\n",
        "clean_data <- world_data\n",
        "char_columns_to_convert <- names(clean_data)[char_cols]\n",
        "\n",
        "\n",
        "clean_data[char_columns_to_convert] <- lapply(clean_data[char_columns_to_convert], function(x) {\n",
        "    x <- gsub(\"[%,\\\\$]\", \"\",x) # Remove special characters\n",
        "    suppressWarnings(as.numeric(x)) # Convert to numeric and suppress warnings\n",
        "})"
      ],
      "metadata": {
        "id": "1mzt1hQUDahX"
      },
      "execution_count": 10,
      "outputs": []
    },
    {
      "cell_type": "code",
      "source": [
        "str(clean_data)"
      ],
      "metadata": {
        "id": "PC5iaEmjBx-D"
      },
      "execution_count": null,
      "outputs": []
    },
    {
      "cell_type": "markdown",
      "source": [
        "**Automated Exploratory Data Analysis with SmartEDA package**"
      ],
      "metadata": {
        "id": "yL4mK3x8RlaG"
      }
    },
    {
      "cell_type": "code",
      "source": [
        "# Overview of the data - Type = 1: overall data summary\n",
        "ExpData(data=clean_data,type=1) # Function to generate data dictionary of a dataframe\n",
        "# give the dimensions of the dataset,variable names, overall missing summary and data types of each variables.\n"
      ],
      "metadata": {
        "execution": {
          "iopub.status.busy": "2023-08-01T14:40:38.836460Z",
          "iopub.execute_input": "2023-08-01T14:40:38.837949Z",
          "iopub.status.idle": "2023-08-01T14:40:38.869443Z"
        },
        "trusted": true,
        "id": "X7KADxJ278bn"
      },
      "execution_count": null,
      "outputs": []
    },
    {
      "cell_type": "code",
      "source": [
        "# Structure of the data - Type = 2: variable level summary\n",
        "ExpData(data=clean_data,type=2)"
      ],
      "metadata": {
        "execution": {
          "iopub.status.busy": "2023-08-01T14:40:38.878694Z",
          "iopub.execute_input": "2023-08-01T14:40:38.880246Z",
          "iopub.status.idle": "2023-08-01T14:40:38.945692Z"
        },
        "trusted": true,
        "id": "gEAcih3_78bo"
      },
      "execution_count": null,
      "outputs": []
    },
    {
      "cell_type": "code",
      "source": [
        "# Metadata Information with additional statistics like mean, median and variance\n",
        " ExpData(data=clean_data,type=2, fun = c(\"mean\", \"median\", \"var\"))\n",
        "\n",
        "\n"
      ],
      "metadata": {
        "id": "AikNsOkOHFSr"
      },
      "execution_count": null,
      "outputs": []
    },
    {
      "cell_type": "code",
      "source": [
        "# ExpNumStat provide summary statistics for all numerical variable\n",
        "#case 1: target variable is not defined- group by All\n",
        "\n",
        "ExpNumStat(clean_data,by=\"A\",gp=NULL,Qnt=NULL,MesofShape=2, Outlier=FALSE,round=2,Nlim=10)\n"
      ],
      "metadata": {
        "id": "xi3WciNfVA6Y"
      },
      "execution_count": null,
      "outputs": []
    },
    {
      "cell_type": "code",
      "source": [
        "# This function automatically scans through each variable and creates densityplot, scatterplot and boxplot for continuous variable using ggplot2 functions\n",
        "\n",
        "ExpNumViz( clean_data,type=2, nlim=3,col= 'green',  scatter=TRUE, gtitle=\"scatter plot:\",theme=\"Default\", Page=c(2,2),sample=6) # you can remove sample limit\n",
        "\n"
      ],
      "metadata": {
        "id": "vgIjt4mIViWz"
      },
      "execution_count": null,
      "outputs": []
    },
    {
      "cell_type": "code",
      "source": [
        "options(width = 150) # customized statistics with ExpCustomStat\n",
        "ExpCustomStat(clean_data,Cvar= \"Country\",gpby=TRUE, filt=  \"Life.expectancy <60\") #filtering data"
      ],
      "metadata": {
        "id": "M_E4a3HdSu0N"
      },
      "execution_count": null,
      "outputs": []
    },
    {
      "cell_type": "code",
      "source": [
        "# Numeric variable summary\n",
        "ExpCustomStat(clean_data,Nvar=c(\"Urban_population\",\"GDP\",\"Out.of.pocket.health.expenditure\",\"Unemployment.rate\"),stat = c('Count','mean','sum','var','min','max'))"
      ],
      "metadata": {
        "id": "tK6AsFz0QNYk"
      },
      "execution_count": null,
      "outputs": []
    },
    {
      "cell_type": "code",
      "source": [
        "ExpCustomStat(clean_data,Nvar=c(\"GDP\",\"Minimum.wage\"),stat = c('min','p0.25','median','p0.75','max'))\n"
      ],
      "metadata": {
        "id": "RyGaLD0zQmJM"
      },
      "execution_count": null,
      "outputs": []
    },
    {
      "cell_type": "code",
      "source": [
        "ExpCustomStat(clean_data,Nvar=c(\"Urban_population\",\"GDP\",\"Out.of.pocket.health.expenditure\",\"Unemployment.rate\"),stat = c('min','p0.25','median','p0.75','max'))\n",
        "\n"
      ],
      "metadata": {
        "id": "GuWWUyjRnvJ2"
      },
      "execution_count": null,
      "outputs": []
    },
    {
      "cell_type": "code",
      "source": [
        "## graphical representation of numeric features (Density plot univariate)\n",
        "# Note: Variable excluded (if unique value of variable which is less than or eaual to 10 [nlim=10])\n",
        "plot1 <- ExpNumViz(clean_data,target=NULL,nlim=10,Page=c(2,2),sample=4)\n",
        "plot1[[1]]\n"
      ],
      "metadata": {
        "id": "1a3o2ze8z5FL"
      },
      "execution_count": null,
      "outputs": []
    },
    {
      "cell_type": "code",
      "source": [
        " ExpOutQQ(clean_data, 6) #  ExpOutQQ function automatically scans through each variable and creates normal QQ plot"
      ],
      "metadata": {
        "id": "w5-pDNphhAhX"
      },
      "execution_count": null,
      "outputs": []
    },
    {
      "cell_type": "code",
      "source": [
        "getwd()"
      ],
      "metadata": {
        "id": "Y7s8VkttT249"
      },
      "execution_count": null,
      "outputs": []
    },
    {
      "cell_type": "code",
      "source": [
        " ExpReport(clean_data,Target=NULL,label=\"Country\",theme=\"Default\",  op_file=\"Smart_Eda_Report.html\", op_dir=\"/content\", sc=NULL, sn=8)\n",
        "\n",
        "#ExpReport functions create an  EDA report in HTML"
      ],
      "metadata": {
        "id": "Z4vKr9_2StHw"
      },
      "execution_count": null,
      "outputs": []
    },
    {
      "cell_type": "code",
      "source": [
        "?ExpReport\n"
      ],
      "metadata": {
        "id": "W6BPm53OZAr0"
      },
      "execution_count": 25,
      "outputs": []
    }
  ]
}